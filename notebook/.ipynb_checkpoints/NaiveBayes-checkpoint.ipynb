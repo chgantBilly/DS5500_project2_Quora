{
 "cells": [
  {
   "cell_type": "markdown",
   "id": "modular-morrison",
   "metadata": {},
   "source": [
    "# Medium Risk: Naive Bayes baseline"
   ]
  },
  {
   "cell_type": "markdown",
   "id": "recreational-hello",
   "metadata": {},
   "source": [
    "## Package"
   ]
  },
  {
   "cell_type": "code",
   "execution_count": 143,
   "id": "proper-attention",
   "metadata": {},
   "outputs": [],
   "source": [
    "import numpy as np\n",
    "import pandas as pd\n",
    "import nltk\n",
    "from nltk.corpus import stopwords\n",
    "from nltk.tokenize import RegexpTokenizer\n",
    "from sklearn.metrics import f1_score, accuracy_score, roc_auc_score, roc_curve,f1_score, plot_confusion_matrix,plot_roc_curve\n",
    "from sklearn.model_selection import KFold, GridSearchCV\n",
    "from sklearn.feature_extraction.text import TfidfVectorizer,CountVectorizer\n",
    "from sklearn.linear_model import LogisticRegression\n",
    "from sklearn.model_selection import train_test_split, cross_val_score\n",
    "from sklearn.naive_bayes import MultinomialNB\n",
    "\n",
    "from nltk import word_tokenize          \n",
    "from nltk.stem import WordNetLemmatizer "
   ]
  },
  {
   "cell_type": "markdown",
   "id": "mexican-configuration",
   "metadata": {},
   "source": [
    "## Load Data"
   ]
  },
  {
   "cell_type": "code",
   "execution_count": 95,
   "id": "south-spring",
   "metadata": {},
   "outputs": [
    {
     "data": {
      "text/plain": [
       "0    1225312\n",
       "1      80810\n",
       "Name: target, dtype: int64"
      ]
     },
     "execution_count": 95,
     "metadata": {},
     "output_type": "execute_result"
    }
   ],
   "source": [
    "df = pd.read_csv('../data/cleaned_train.csv')\n",
    "df = df.drop('qid',axis=1)\n",
    "# proportion of target\n",
    "df.target.value_counts(dropna=False)"
   ]
  },
  {
   "cell_type": "code",
   "execution_count": 96,
   "id": "physical-detector",
   "metadata": {},
   "outputs": [
    {
     "name": "stderr",
     "output_type": "stream",
     "text": [
      "[nltk_data] Downloading package stopwords to /Users/billy/nltk_data...\n",
      "[nltk_data]   Package stopwords is already up-to-date!\n",
      "[nltk_data] Downloading package punkt to /Users/billy/nltk_data...\n",
      "[nltk_data]   Package punkt is already up-to-date!\n",
      "[nltk_data] Downloading package wordnet to /Users/billy/nltk_data...\n",
      "[nltk_data]   Package wordnet is already up-to-date!\n"
     ]
    }
   ],
   "source": [
    "nltk.download(\"stopwords\")\n",
    "nltk.download('punkt')\n",
    "nltk.download('wordnet')\n",
    "stop_words = stopwords.words('english')"
   ]
  },
  {
   "cell_type": "markdown",
   "id": "pressed-afghanistan",
   "metadata": {},
   "source": [
    "## Feature Engineering"
   ]
  },
  {
   "cell_type": "markdown",
   "id": "recognized-final",
   "metadata": {},
   "source": [
    "### Some Statistical Features"
   ]
  },
  {
   "cell_type": "code",
   "execution_count": 97,
   "id": "spatial-sleeve",
   "metadata": {},
   "outputs": [],
   "source": [
    "df['length']=df['question_text'].apply(len)\n",
    "df['capital']=df['question_text'].apply(lambda text: sum([1 for c in text if c.isupper()]))\n",
    "df['capital_to_length']=df['capital'] / df['length']\n",
    "df['word_count'] = df['question_text'].str.count('\\S+')\n",
    "df['word_to_length'] = df['length'] / df['word_count']"
   ]
  },
  {
   "cell_type": "code",
   "execution_count": 98,
   "id": "saved-style",
   "metadata": {},
   "outputs": [],
   "source": [
    "#split train and Validation data\n",
    "X_train, X_test, y_train, y_test = train_test_split(\n",
    "     df.drop('target',axis=1), df['target'], test_size=0.33, random_state=2021)"
   ]
  },
  {
   "cell_type": "code",
   "execution_count": 104,
   "id": "funny-connection",
   "metadata": {},
   "outputs": [],
   "source": [
    "X_train_text = X_train['question_text']\n",
    "X_train_stat_feature = np.round(X_train.drop('question_text',axis=1).values,3)\n",
    "X_test_text = X_test['question_text']\n",
    "X_test_stat_feature = np.round(X_test.drop('question_text',axis=1).values,3)"
   ]
  },
  {
   "cell_type": "markdown",
   "id": "stuck-marketing",
   "metadata": {},
   "source": [
    "### TF_IDF features"
   ]
  },
  {
   "cell_type": "code",
   "execution_count": 105,
   "id": "little-intent",
   "metadata": {},
   "outputs": [],
   "source": [
    "#Lokenizer with WordNet Lemma\n",
    "class LemmaTokenizer:\n",
    "    def __init__(self):\n",
    "        self.wnl = WordNetLemmatizer()\n",
    "        self.tokenizer =  RegexpTokenizer(r'\\w+')\n",
    "    def __call__(self, doc):\n",
    "        return [self.wnl.lemmatize(t) for t in self.tokenizer.tokenize(doc)]"
   ]
  },
  {
   "cell_type": "code",
   "execution_count": 106,
   "id": "governing-kitty",
   "metadata": {},
   "outputs": [],
   "source": [
    "cv = CountVectorizer(stop_words=stop_words,max_features=1000,tokenizer=LemmaTokenizer())\n",
    "tfidf = TfidfVectorizer(max_features=1000,stop_words=stop_words, tokenizer= LemmaTokenizer())"
   ]
  },
  {
   "cell_type": "code",
   "execution_count": 108,
   "id": "sensitive-victim",
   "metadata": {},
   "outputs": [],
   "source": [
    "tfidf.fit(df['question_text'])\n",
    "X_train_tfidf = tfidf.transform(X_train_text)\n",
    "X_test_tfidf = tfidf.transform(X_test_text)"
   ]
  },
  {
   "cell_type": "code",
   "execution_count": 117,
   "id": "artificial-hebrew",
   "metadata": {},
   "outputs": [],
   "source": [
    "from scipy.sparse import hstack\n",
    "X_train = hstack((X_train_tfidf, X_train_stat_feature))\n",
    "X_test = hstack((X_test_tfidf,X_test_stat_feature))"
   ]
  },
  {
   "cell_type": "markdown",
   "id": "fossil-scheduling",
   "metadata": {},
   "source": [
    "## Modeling"
   ]
  },
  {
   "cell_type": "markdown",
   "id": "reduced-inclusion",
   "metadata": {},
   "source": [
    "### Use tf-idf only"
   ]
  },
  {
   "cell_type": "code",
   "execution_count": 132,
   "id": "taken-miller",
   "metadata": {},
   "outputs": [],
   "source": [
    "nb_classifier = MultinomialNB()\n",
    "parameters = {'alpha':[0.001,0.01,0.1,1,10,100,1000]}\n",
    "grid_search = GridSearchCV(nb_classifier, parameters,scoring='roc_auc')"
   ]
  },
  {
   "cell_type": "code",
   "execution_count": 133,
   "id": "expanded-department",
   "metadata": {},
   "outputs": [
    {
     "data": {
      "text/plain": [
       "GridSearchCV(estimator=MultinomialNB(),\n",
       "             param_grid={'alpha': [0.001, 0.01, 0.1, 1, 10, 100, 1000]},\n",
       "             scoring='roc_auc')"
      ]
     },
     "execution_count": 133,
     "metadata": {},
     "output_type": "execute_result"
    }
   ],
   "source": [
    "grid_search.fit(X_train_tfidf, y_train)"
   ]
  },
  {
   "cell_type": "code",
   "execution_count": 134,
   "id": "cutting-ghana",
   "metadata": {},
   "outputs": [
    {
     "name": "stdout",
     "output_type": "stream",
     "text": [
      "best parameter is {'alpha': 10}\n",
      "best score is 0.8855933836992513\n"
     ]
    }
   ],
   "source": [
    "print('best parameter is', grid_search.best_params_)\n",
    "print('best score is', grid_search.best_score_)"
   ]
  },
  {
   "cell_type": "code",
   "execution_count": 135,
   "id": "blank-messenger",
   "metadata": {},
   "outputs": [
    {
     "name": "stdout",
     "output_type": "stream",
     "text": [
      "accuracy on the test set: 0.941 \n",
      "auc on the test set: 0.885\n"
     ]
    }
   ],
   "source": [
    "predict_proba_test = grid_search.predict_proba(X_test_tfidf)[:,1]\n",
    "predict_test = grid_search.predict(X_test_tfidf)\n",
    "\n",
    "accuracy = accuracy_score(y_true=y_test, y_pred=predict_test)\n",
    "auc = roc_auc_score(y_true=y_test,y_score=predict_proba_test)\n",
    "\n",
    "print('accuracy on the test set: {:.3f} \\nauc on the test set: {:.3f}'.format(accuracy, auc))"
   ]
  },
  {
   "cell_type": "code",
   "execution_count": 136,
   "id": "primary-condition",
   "metadata": {},
   "outputs": [
    {
     "data": {
      "text/plain": [
       "<sklearn.metrics._plot.confusion_matrix.ConfusionMatrixDisplay at 0x7fc120717760>"
      ]
     },
     "execution_count": 136,
     "metadata": {},
     "output_type": "execute_result"
    },
    {
     "data": {
      "image/png": "[encoded data removed]",
      "text/plain": [
       "<Figure size 432x288 with 2 Axes>"
      ]
     },
     "metadata": {
      "needs_background": "light"
     },
     "output_type": "display_data"
    }
   ],
   "source": [
    "plot_confusion_matrix(grid_search, X_test_tfidf,y_test)"
   ]
  },
  {
   "cell_type": "code",
   "execution_count": 144,
   "id": "moving-focus",
   "metadata": {},
   "outputs": [
    {
     "data": {
      "text/plain": [
       "<sklearn.metrics._plot.roc_curve.RocCurveDisplay at 0x7fc0dd437610>"
      ]
     },
     "execution_count": 144,
     "metadata": {},
     "output_type": "execute_result"
    },
    {
     "data": {
      "image/png": "[encoded data removed]",
      "text/plain": [
       "<Figure size 432x288 with 1 Axes>"
      ]
     },
     "metadata": {
      "needs_background": "light"
     },
     "output_type": "display_data"
    }
   ],
   "source": [
    "plot_roc_curve(grid_search,X_test_tfidf,y_test)"
   ]
  },
  {
   "cell_type": "markdown",
   "id": "potential-anderson",
   "metadata": {},
   "source": [
    "### add statistical features"
   ]
  },
  {
   "cell_type": "code",
   "execution_count": 137,
   "id": "classified-force",
   "metadata": {},
   "outputs": [],
   "source": [
    "nb_classifier = MultinomialNB()\n",
    "parameters = {'alpha':[0.001,0.01,0.1,1,10,100,1000]}\n",
    "grid_search_2 = GridSearchCV(nb_classifier, parameters,scoring='roc_auc')"
   ]
  },
  {
   "cell_type": "code",
   "execution_count": 138,
   "id": "fourth-setup",
   "metadata": {},
   "outputs": [
    {
     "data": {
      "text/plain": [
       "GridSearchCV(estimator=MultinomialNB(),\n",
       "             param_grid={'alpha': [0.001, 0.01, 0.1, 1, 10, 100, 1000]},\n",
       "             scoring='roc_auc')"
      ]
     },
     "execution_count": 138,
     "metadata": {},
     "output_type": "execute_result"
    }
   ],
   "source": [
    "grid_search_2.fit(X_train, y_train)"
   ]
  },
  {
   "cell_type": "code",
   "execution_count": 129,
   "id": "deluxe-niagara",
   "metadata": {},
   "outputs": [
    {
     "name": "stdout",
     "output_type": "stream",
     "text": [
      "best parameter is {'alpha': 0.001}\n",
      "best score is 0.8887804347053935\n"
     ]
    }
   ],
   "source": [
    "print('best parameter is', grid_search_2.best_params_)\n",
    "print('best score is', grid_search_2.best_score_)"
   ]
  },
  {
   "cell_type": "code",
   "execution_count": 140,
   "id": "intended-grave",
   "metadata": {},
   "outputs": [
    {
     "name": "stdout",
     "output_type": "stream",
     "text": [
      "accuracy on the test set: 0.940 \n",
      "auc on the test set: 0.889\n"
     ]
    }
   ],
   "source": [
    "predict_proba_test = grid_search_2.predict_proba(X_test)[:,1]\n",
    "predict_test = grid_search_2.predict(X_test)\n",
    "\n",
    "accuracy = accuracy_score(y_true=y_test, y_pred=predict_test)\n",
    "auc = roc_auc_score(y_true=y_test,y_score=predict_proba_test)\n",
    "\n",
    "print('accuracy on the test set: {:.3f} \\nauc on the test set: {:.3f}'.format(accuracy, auc))"
   ]
  },
  {
   "cell_type": "code",
   "execution_count": 141,
   "id": "raising-coating",
   "metadata": {},
   "outputs": [
    {
     "data": {
      "text/plain": [
       "<sklearn.metrics._plot.confusion_matrix.ConfusionMatrixDisplay at 0x7fc0debc74f0>"
      ]
     },
     "execution_count": 141,
     "metadata": {},
     "output_type": "execute_result"
    },
    {
     "data": {
      "image/png": "[encoded data removed]",
      "text/plain": [
       "<Figure size 432x288 with 2 Axes>"
      ]
     },
     "metadata": {
      "needs_background": "light"
     },
     "output_type": "display_data"
    }
   ],
   "source": [
    "plot_confusion_matrix(grid_search_2, X_test,y_test)"
   ]
  },
  {
   "cell_type": "code",
   "execution_count": 145,
   "id": "insured-subject",
   "metadata": {},
   "outputs": [
    {
     "data": {
      "text/plain": [
       "<sklearn.metrics._plot.roc_curve.RocCurveDisplay at 0x7fc0dd62e8b0>"
      ]
     },
     "execution_count": 145,
     "metadata": {},
     "output_type": "execute_result"
    },
    {
     "data": {
      "image/png": "[encoded data removed]",
      "text/plain": [
       "<Figure size 432x288 with 1 Axes>"
      ]
     },
     "metadata": {
      "needs_background": "light"
     },
     "output_type": "display_data"
    }
   ],
   "source": [
    "plot_roc_curve(grid_search_2,X_test,y_test)"
   ]
  },
  {
   "cell_type": "code",
   "execution_count": null,
   "id": "embedded-intention",
   "metadata": {},
   "outputs": [],
   "source": []
  }
 ],
 "metadata": {
  "kernelspec": {
   "display_name": "Python 3",
   "language": "python",
   "name": "python3"
  },
  "language_info": {
   "codemirror_mode": {
    "name": "ipython",
    "version": 3
   },
   "file_extension": ".py",
   "mimetype": "text/x-python",
   "name": "python",
   "nbconvert_exporter": "python",
   "pygments_lexer": "ipython3",
   "version": "3.8.5"
  }
 },
 "nbformat": 4,
 "nbformat_minor": 5
}
